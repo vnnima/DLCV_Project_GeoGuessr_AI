{
 "cells": [
  {
   "cell_type": "code",
   "execution_count": null,
   "id": "f1b470ad-0cc2-4453-b1e2-7dca35f10a2e",
   "metadata": {},
   "outputs": [],
   "source": [
    "import numpy as np\n",
    "import matplotlib as mpl\n",
    "import matplotlib.pyplot as plt\n",
    "import torch\n",
    "import torch.nn as nn\n",
    "from torchvision import models\n",
    "from skimage.transform import resize"
   ]
  },
  {
   "cell_type": "code",
   "execution_count": null,
   "id": "07603660-43e7-4991-9ff9-4c96c8e27b0a",
   "metadata": {},
   "outputs": [],
   "source": [
    "NUM_CLASSES = 3139\n",
    "FEATURE_EXTRACTING = False\n",
    "\n",
    "HEIGHT = 512\n",
    "WIDTH = 2560\n",
    "\n",
    "EPOCHS = 5\n",
    "\n",
    "# Check GPU support on your machine.\n",
    "device = torch.device('cuda:0' if torch.cuda.is_available() else 'cpu')\n",
    "\n",
    "print(device)"
   ]
  },
  {
   "cell_type": "code",
   "execution_count": null,
   "id": "688e2b0e-30a0-4abf-990f-82e37fa4f4a4",
   "metadata": {},
   "outputs": [],
   "source": [
    "class GradCamModel(nn.Module):\n",
    "    def __init__(self, model=None):\n",
    "        super().__init__()\n",
    "        self.gradients = None\n",
    "        self.tensorhook = []\n",
    "        self.layerhook = []\n",
    "        self.selected_out = None\n",
    "        \n",
    "        #PRETRAINED MODEL\n",
    "        if model:\n",
    "            self.pretrained = model\n",
    "            self.layerhook.append(self.pretrained.layer4.register_forward_hook(self.forward_hook()))\n",
    "\n",
    "        else:\n",
    "            self.pretrained = models.resnet50(pretrained=True)\n",
    "            self.layerhook.append(self.pretrained.layer4.register_forward_hook(self.forward_hook()))\n",
    "        \n",
    "        for p in self.pretrained.parameters():\n",
    "            p.requires_grad = True\n",
    "    \n",
    "    def activations_hook(self,grad):\n",
    "        self.gradients = grad\n",
    "\n",
    "    def get_act_grads(self):\n",
    "        return self.gradients\n",
    "\n",
    "    def forward_hook(self):\n",
    "        def hook(module, inp, out):\n",
    "            self.selected_out = out\n",
    "            self.tensorhook.append(out.register_hook(self.activations_hook))\n",
    "        return hook\n",
    "\n",
    "    def forward(self,x):\n",
    "        out = self.pretrained(x)\n",
    "        return out, self.selected_out\n"
   ]
  },
  {
   "cell_type": "code",
   "execution_count": null,
   "id": "0b923bd2-0ea8-4d2a-b96d-02846ae0eb3d",
   "metadata": {},
   "outputs": [],
   "source": [
    "model = models.resnet50()\n",
    "num_ftrs = model.fc.in_features\n",
    "model.fc = nn.Linear(num_ftrs,NUM )\n",
    "\n",
    "checkpoint = torch.load(\"pretrainedresnet50_14epoch.tar\", map_location=device)\n",
    "model.load_state_dict(checkpoint['model_state_dict'])\n",
    "model.eval()\n",
    "\n",
    "gcmodel = GradCamModel(model).to(device)"
   ]
  },
  {
   "cell_type": "code",
   "execution_count": null,
   "id": "356210b8-6826-40f8-9f53-470281ec786e",
   "metadata": {},
   "outputs": [],
   "source": [
    "img = dataset[0]\n",
    "\n",
    "fig, ax = plt.subplots(figsize=(10, 5))\n",
    "ax.imshow(img[\"image\"].permute(1,2,0))"
   ]
  },
  {
   "cell_type": "code",
   "execution_count": null,
   "id": "d980c3d8-4094-4dba-b2ca-43d7ec7991c5",
   "metadata": {},
   "outputs": [],
   "source": [
    "out, acts = gcmodel(img[\"image\"].to(device)[None, :])\n",
    "acts = acts.detach().cpu()\n",
    "loss = nn.CrossEntropyLoss()(out,torch.from_numpy(np.array([600])).to(device))\n",
    "loss.backward()\n",
    "grads = gcmodel.get_act_grads().detach().cpu()\n",
    "pooled_grads = torch.mean(grads, dim=[0,2,3]).detach().cpu()\n",
    "\n",
    "for i in range(acts.shape[1]):\n",
    "    acts[:,i,:,:] *= pooled_grads[i]\n",
    "\n",
    "heatmap_j = torch.mean(acts, dim = 1).squeeze()\n",
    "heatmap_j_max = heatmap_j.max(axis = 0)[0]\n",
    "heatmap_j /= heatmap_j_max"
   ]
  },
  {
   "cell_type": "code",
   "execution_count": null,
   "id": "b49b3bba-1bde-4bd3-9e96-d3ecd113543f",
   "metadata": {},
   "outputs": [],
   "source": [
    "heatmap_j = resize(heatmap_j,(512,2560),preserve_range=True)\n"
   ]
  },
  {
   "cell_type": "code",
   "execution_count": null,
   "id": "4771fd02-18b3-4a09-b798-8d6fabb7f92b",
   "metadata": {},
   "outputs": [],
   "source": [
    "cmap = mpl.cm.get_cmap(\"jet\",256)\n",
    "heatmap_j2 = cmap(heatmap_j,alpha = 0.2)"
   ]
  },
  {
   "cell_type": "code",
   "execution_count": null,
   "id": "02f1182b-cee0-4970-bd6d-df463a95fde4",
   "metadata": {},
   "outputs": [],
   "source": [
    "fig, axs = plt.subplots(1,1,figsize = (15,10))\n",
    "axs.imshow(img[\"image\"].permute(1,2,0))\n",
    "axs.imshow(heatmap_j2)\n",
    "plt.show()"
   ]
  },
  {
   "cell_type": "code",
   "execution_count": null,
   "id": "c2624de4-ce3f-4172-a568-730ba3db05b8",
   "metadata": {},
   "outputs": [],
   "source": []
  },
  {
   "cell_type": "code",
   "execution_count": null,
   "id": "de86168c-75d6-4be3-a03b-b1c69cf49d89",
   "metadata": {},
   "outputs": [],
   "source": []
  },
  {
   "cell_type": "code",
   "execution_count": null,
   "id": "d3b8e20a-0df3-433e-83d0-39e1da1f9709",
   "metadata": {},
   "outputs": [],
   "source": []
  },
  {
   "cell_type": "code",
   "execution_count": null,
   "id": "381ba5f3-ec13-4ad2-9b2b-f559b338168d",
   "metadata": {},
   "outputs": [],
   "source": []
  },
  {
   "cell_type": "code",
   "execution_count": null,
   "id": "62b8e040-2e7d-4651-ad18-87ec2926ceea",
   "metadata": {},
   "outputs": [],
   "source": []
  },
  {
   "cell_type": "code",
   "execution_count": null,
   "id": "7cc6a737-2731-4db7-9513-75184faabf16",
   "metadata": {},
   "outputs": [],
   "source": []
  },
  {
   "cell_type": "code",
   "execution_count": null,
   "id": "c465d583-d8a3-4b0c-82bb-3770c79714f2",
   "metadata": {},
   "outputs": [],
   "source": []
  },
  {
   "cell_type": "code",
   "execution_count": null,
   "id": "301fa739-9759-4fb5-8a2a-9083b0f9ea5a",
   "metadata": {},
   "outputs": [],
   "source": []
  },
  {
   "cell_type": "code",
   "execution_count": null,
   "id": "0e9a4930-74f6-49a1-af6d-59f4e0e4f2f8",
   "metadata": {},
   "outputs": [],
   "source": []
  },
  {
   "cell_type": "code",
   "execution_count": null,
   "id": "90fdf3ba-cd4e-414d-b253-9e18f41aef43",
   "metadata": {},
   "outputs": [],
   "source": []
  },
  {
   "cell_type": "code",
   "execution_count": null,
   "id": "fda01a09-50ff-45c8-9ac0-b23e58cd9aad",
   "metadata": {},
   "outputs": [],
   "source": []
  },
  {
   "cell_type": "code",
   "execution_count": null,
   "id": "d38dd569-beec-4bfe-ad6e-299f6fdf8233",
   "metadata": {},
   "outputs": [],
   "source": []
  },
  {
   "cell_type": "code",
   "execution_count": null,
   "id": "4dade596-0101-4227-8d93-61d525c66f6b",
   "metadata": {},
   "outputs": [],
   "source": []
  },
  {
   "cell_type": "code",
   "execution_count": null,
   "id": "4bd21311-bcf7-424c-a867-99ecbae1d38f",
   "metadata": {},
   "outputs": [],
   "source": []
  },
  {
   "cell_type": "code",
   "execution_count": null,
   "id": "cbe840c6-07f9-4e77-8b01-ffcc5a907389",
   "metadata": {},
   "outputs": [],
   "source": []
  },
  {
   "cell_type": "code",
   "execution_count": null,
   "id": "ab85b847-849e-48bc-9727-749a8ca31e9a",
   "metadata": {},
   "outputs": [],
   "source": []
  }
 ],
 "metadata": {
  "kernelspec": {
   "display_name": "Python 3 (ipykernel)",
   "language": "python",
   "name": "python3"
  },
  "language_info": {
   "codemirror_mode": {
    "name": "ipython",
    "version": 3
   },
   "file_extension": ".py",
   "mimetype": "text/x-python",
   "name": "python",
   "nbconvert_exporter": "python",
   "pygments_lexer": "ipython3",
   "version": "3.11.0"
  }
 },
 "nbformat": 4,
 "nbformat_minor": 5
}
