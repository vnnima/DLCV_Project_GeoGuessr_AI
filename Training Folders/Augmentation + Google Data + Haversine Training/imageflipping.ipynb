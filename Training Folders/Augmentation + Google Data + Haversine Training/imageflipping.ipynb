{
 "cells": [
  {
   "cell_type": "code",
   "execution_count": 1,
   "id": "c878ed91",
   "metadata": {},
   "outputs": [
    {
     "name": "stderr",
     "output_type": "stream",
     "text": [
      "C:\\Users\\Shadow\\AppData\\Local\\Temp\\ipykernel_7724\\810782931.py:11: DeprecationWarning: FLIP_LEFT_RIGHT is deprecated and will be removed in Pillow 10 (2023-07-01). Use Transpose.FLIP_LEFT_RIGHT instead.\n",
      "  im_flipped = im.transpose(Image.FLIP_LEFT_RIGHT)\n"
     ]
    }
   ],
   "source": [
    "import os\n",
    "from PIL import Image\n",
    "\n",
    "folder = r\"D:\\Projekt\"\n",
    "for filename in os.listdir(folder):\n",
    "    if filename.endswith(\".jpg\"):\n",
    "        # Open the image file\n",
    "        im = Image.open(os.path.join(folder, filename))\n",
    "\n",
    "        # Flip the image horizontally\n",
    "        im_flipped = im.transpose(Image.FLIP_LEFT_RIGHT)\n",
    "\n",
    "        # Get the first letter of the file name\n",
    "        first_letter = filename[0]\n",
    "        \n",
    "        # Create new file name by replacing the first letter with \"f\"\n",
    "        new_filename = 'z' + filename[1:]\n",
    "        \n",
    "        # Save the flipped image\n",
    "        im_flipped.save(os.path.join(folder, new_filename))"
   ]
  },
  {
   "cell_type": "code",
   "execution_count": null,
   "id": "6ce7fa71",
   "metadata": {},
   "outputs": [],
   "source": []
  },
  {
   "cell_type": "code",
   "execution_count": null,
   "id": "98fa36ee",
   "metadata": {},
   "outputs": [],
   "source": [
    "# ausprobieren\n",
    "\n",
    "testfolder = r\"C:\\Users\\Shadow\\Pictures\\Camera Roll\"\n",
    "names = testfolder.listdir"
   ]
  }
 ],
 "metadata": {
  "kernelspec": {
   "display_name": "Python 3 (ipykernel)",
   "language": "python",
   "name": "python3"
  },
  "language_info": {
   "codemirror_mode": {
    "name": "ipython",
    "version": 3
   },
   "file_extension": ".py",
   "mimetype": "text/x-python",
   "name": "python",
   "nbconvert_exporter": "python",
   "pygments_lexer": "ipython3",
   "version": "3.10.8"
  }
 },
 "nbformat": 4,
 "nbformat_minor": 5
}
