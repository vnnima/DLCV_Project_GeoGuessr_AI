{
 "cells": [
  {
   "cell_type": "code",
   "execution_count": 1,
   "id": "2f895d43",
   "metadata": {},
   "outputs": [],
   "source": [
    "import torch\n",
    "import torch.nn as nn\n",
    "import torch.nn.functional as F\n",
    "import torchvision\n",
    "import torchvision.transforms as transforms\n",
    "from torch.utils.data import DataLoader\n",
    "from torchvision import models\n",
    "#from torchsummary import summary\n",
    "from torch.optim import lr_scheduler\n",
    "from torchvision.models.resnet import resnet50, ResNet50_Weights\n",
    "\n",
    "# Dataset\n",
    "from GeoGuessrDataset import GeoGuessrDataset\n",
    "\n",
    "\n",
    "import numpy as np\n",
    "import matplotlib.pyplot as plt\n",
    "import pandas as pd\n",
    "from tqdm.notebook import tnrange\n",
    "import time\n",
    "import copy\n",
    "import pygeohash as phg\n",
    "\n",
    "\n",
    "%matplotlib inline\n",
    "\n",
    "# Enable autoreloading of imported modules.\n",
    "%load_ext autoreload\n",
    "%autoreload 2"
   ]
  },
  {
   "cell_type": "code",
   "execution_count": 2,
   "id": "5dfb6eec",
   "metadata": {},
   "outputs": [],
   "source": [
    "\n",
    "import os\n",
    "import sys\n",
    "from PIL import Image\n",
    "\n",
    "from shapely.geometry import Point\n",
    "import geopandas as gpd\n",
    "from geopandas import GeoDataFrame\n",
    "import matplotlib.pyplot as plt\n",
    "import pandas as pd\n",
    "\n",
    "\n",
    "\n",
    "\n",
    "def create_map_plot(coords, confidence, gt):\n",
    "    \"\"\"Create a map plot with the given coordinates.\n",
    "    Args:\n",
    "        coords (list): List of tuples with coordinates: (latitude, longitude)\n",
    "    Returns:\n",
    "        None\n",
    "    \"\"\"\n",
    "    gt_new = np.zeros((2,2))\n",
    "    gt_new[0,:]=gt\n",
    "    gt_new[1,:]=gt\n",
    "    gt_new = gt_new.tolist()\n",
    "    df = pd.DataFrame(coords, columns=['lat', 'lng'])\n",
    "    df[\"confidence\"] = confidence\n",
    "    df[\"confidence\"] = (df[\"confidence\"] / df[\"confidence\"].sum()) * 50\n",
    "    geometry = [Point(lng, lat) for lat, lng in coords]\n",
    "    gdf = GeoDataFrame(df, geometry=geometry)\n",
    "    # Set x-axis limits.\n",
    "    \n",
    "    df2 = pd.DataFrame(gt_new, columns=['lat', 'lng'])\n",
    "    geometry2 = [Point(lng, lat) for lat, lng in gt_new]\n",
    "    gdf2 = GeoDataFrame(df2, geometry=geometry2)\n",
    "    world = gpd.read_file(gpd.datasets.get_path('naturalearth_lowres'))\n",
    "    ax = world.plot(color=\"#5c5c7e\")\n",
    "    gdf.plot(ax=ax, marker='o', color='red', markersize=gdf[\"confidence\"])\n",
    "    gdf2.plot(ax=ax, marker='o', color='yellow')\n",
    "\n",
    "    minx = min([point.x for point in geometry])\n",
    "    miny = min([point.y for point in geometry])\n",
    "    maxx = max([point.x for point in geometry])\n",
    "    maxy = max([point.y for point in geometry])\n",
    "    plt.figure(figsize=(20, 10))\n",
    "    ax.set_xlim(minx - 20, maxx + 20)\n",
    "    ax.set_ylim(miny - 20, maxy + 20)\n",
    "    plt.gca().set_axis_off()\n",
    "    plt.gcf().set_size_inches(3.5, 1)\n",
    "    plt.show()\n",
    "    #plt.savefig(os.path.join(Config.PREDICTION_PLOT_PATH, 'prediction.png'), bbox_inches=\"tight\", pad_inches=0.0, dpi=300)"
   ]
  },
  {
   "cell_type": "code",
   "execution_count": 3,
   "id": "5c86c8c0",
   "metadata": {},
   "outputs": [
    {
     "data": {
      "text/plain": [
       "torch.Size([3, 250, 1000])"
      ]
     },
     "execution_count": 3,
     "metadata": {},
     "output_type": "execute_result"
    }
   ],
   "source": [
    "dir = r\"C:\\Users\\Shadow\\Documents\\sequentialmodel\\preprocess\"\n",
    "ROOT_DIR = r'C:\\Users\\Shadow\\Pictures\\Geogussr\\Projekt'\n",
    "#transform = transforms.Compose([transforms.ToTensor()])\n",
    "transform = transforms.Compose([\n",
    "    transforms.ToTensor(),  # convert images to tensors\n",
    "    transforms.Normalize(mean=[0.5, 0.5, 0.5], std=[0.5, 0.5, 0.5]),  # normalize images\n",
    "    transforms.Resize((250, 1000))\n",
    "])\n",
    "dataset = GeoGuessrDataset(csv_file=dir+'\\coordinates3.csv',\n",
    "                                    root_dir=ROOT_DIR, transform=transform, num_classes=7)\n",
    "\n",
    "dataset[0]['image'].shape"
   ]
  },
  {
   "cell_type": "code",
   "execution_count": 4,
   "id": "1b10cf19",
   "metadata": {},
   "outputs": [],
   "source": [
    "import pygeohash\n",
    "def decimal_to_geohash(decimal):\n",
    "    base_32 = '0123456789bcdefghjkmnpqrstuvwxyz'\n",
    "    geohash = ''\n",
    "    while decimal > 0:\n",
    "        geohash += base_32[decimal % 32]\n",
    "        decimal //= 32\n",
    "    return geohash[::-1]\n",
    "\n",
    "def geohash_to_lat_lon(geohash):\n",
    "    return pygeohash.decode(geohash)"
   ]
  },
  {
   "cell_type": "code",
   "execution_count": 5,
   "id": "3c921a43",
   "metadata": {},
   "outputs": [],
   "source": [
    "def create_geocode_mapping(path, continent_name = None):\n",
    "    \"\"\"Create a dictionary with the geo_code as key and the geohash (decimal) as value\n",
    "    Args:\n",
    "        path (str): Path to the csv file with the coordinates\n",
    "    Returns:\n",
    "        dict: Dictionary with the geo_code as key and the geohash (decimal) as value\n",
    "    \"\"\"\n",
    "    \n",
    "    df = pd.read_csv(path)\n",
    "    #df_geo = df[[\"geohash_decimal\", \"geo_code\"]]\n",
    "    #df_geo = df_geo.drop_duplicates()\n",
    "    #geo_code_to_geohash = dict(zip(df_geo[\"geo_code\"], df_geo[\"geohash_decimal\"]))\n",
    "    \n",
    "    \n",
    "    \n",
    "    if continent_name:\n",
    "        # get csv to only contain one continent\n",
    "        keys = df[\"continent\"].unique()\n",
    "        indices = {key: df.index[df[\"continent\"]==key].tolist()for key in keys}\n",
    "        df = df.iloc[indices[continent_name]]\n",
    "\n",
    "        # We want a geohash precsion of 3 so that we get approximately 32768 cells, which will represent our classes.\n",
    "        df['geohash']=df.apply(lambda coords: phg.encode(coords.latitude, coords.longitude, precision=3), axis=1)\n",
    "\n",
    "        # get all hashes that contain samples\n",
    "        geohashes_with_samples = df[\"geohash\"].unique() \n",
    "    return geohashes_with_samples"
   ]
  },
  {
   "cell_type": "code",
   "execution_count": 6,
   "id": "0f106b3c",
   "metadata": {},
   "outputs": [
    {
     "name": "stdout",
     "output_type": "stream",
     "text": [
      "Conti pred: Asia Conti gt:  Asia\n"
     ]
    },
    {
     "data": {
      "image/png": "[encoded data removed]",
      "text/plain": [
       "<Figure size 640x480 with 1 Axes>"
      ]
     },
     "metadata": {},
     "output_type": "display_data"
    },
    {
     "data": {
      "image/png": "[encoded data removed]",
      "text/plain": [
       "<Figure size 350x100 with 1 Axes>"
      ]
     },
     "metadata": {},
     "output_type": "display_data"
    },
    {
     "name": "stdout",
     "output_type": "stream",
     "text": [
      "Distance:  723.7189647752626\n"
     ]
    }
   ],
   "source": [
    "from haversine import haversine\n",
    "# Load the model\n",
    "\n",
    "model = models.resnet50()\n",
    "num_ftrs = model.fc.in_features\n",
    "model.fc = nn.Linear(num_ftrs, 7)\n",
    "\n",
    "checkpoint = torch.load(r\"C:\\Users\\Shadow\\Documents\\sequentialmodel\\models\\pretrainedresnet50_14epoch_contihead.tar\", map_location=torch.device('cpu'))\n",
    "model.load_state_dict(checkpoint['model_state_dict'])\n",
    "model.eval()\n",
    "\n",
    "#transform = transforms.Compose([transforms.ToTensor()])\n",
    "i = 25551\n",
    "image_transformed, gt, conti = dataset[i]['image'], dataset[i]['gt'], dataset[i]['conti']\n",
    "\n",
    "with torch.inference_mode():\n",
    "    # TODO: Why does the output tensor have 2 dimensions and why do we have to unsqueeze(0) add one dimension?\n",
    "    # Probably because the model expects a batch of images, which adds an additional dimension?\n",
    "    output = model(image_transformed.unsqueeze(0))[0]\n",
    "    \n",
    "    \n",
    "    ############################# new stuff\n",
    "    _, pred = torch.max(output,-1)\n",
    "    v = np.argmax(conti)\n",
    "   \n",
    "    if pred < 6:\n",
    "        if pred > 3:\n",
    "            pred -=1\n",
    "        if np.argmax(conti) > 3:\n",
    "            v -= 1\n",
    "        modelnames = ['South_America','Asia','Africa','Oceania','North_america','Europe']\n",
    "        model_outputparameters = [447, 734, 183, 172, 779, 745]\n",
    "        print('Conti pred:' ,modelnames[pred],'Conti gt: ', modelnames[v] )\n",
    "        model.fc = nn.Linear(num_ftrs, model_outputparameters[pred])\n",
    "        checkpoint = torch.load(r\"C:\\Users\\Shadow\\Documents\\sequentialmodel\\models\\pretrainedresnet50_14epoch_\"+modelnames[pred]+\".tar\", map_location=torch.device('cpu'))\n",
    "        model.load_state_dict(checkpoint['model_state_dict'])\n",
    "        model.eval()\n",
    "\n",
    "        output = model(image_transformed.unsqueeze(0))[0]\n",
    "     ########################################\n",
    "        \n",
    "        \n",
    "\n",
    "        \n",
    "        # Return the top 5 predictions\n",
    "        indices_sorted = np.argsort(-output)\n",
    "        top5 = indices_sorted[:5]\n",
    "        \n",
    "        ################################################\n",
    "        i = modelnames[pred]\n",
    "        if i =='South_America':\n",
    "            i='South America'\n",
    "        elif i =='North_America':\n",
    "            i='North America'\n",
    "        geohashes_with_samples = create_geocode_mapping(r\"C:\\Users\\Shadow\\Documents\\sequentialmodel\\preprocess\\coordinates3.csv\",i)\n",
    "\n",
    "        top_5_coords = [phg.decode(geohashes_with_samples[int(index.data)]) for index in top5]\n",
    "        #################################################\n",
    "        \n",
    "        \n",
    "        prediction_confidence = nn.functional.softmax(output, dim=0)\n",
    "        top5_predictions_confidence = prediction_confidence[top5]\n",
    "\n",
    "        # Create a plot of the top 5 predictions\n",
    "        \n",
    "        create_map_plot(top_5_coords, top5_predictions_confidence.tolist(), gt)\n",
    "\n",
    "        index = output.data.cpu().numpy().argmax()\n",
    "        \n",
    "        \n",
    "        \n",
    "        \n",
    "        geohash = geohashes_with_samples[index]\n",
    "        \n",
    "####################################### delete\n",
    "        lat =  phg.decode(geohash)[0]\n",
    "        lon = phg.decode(geohash)[1]\n",
    "        \n",
    "        print('Distance: ',haversine(gt,(lat,lon)))\n",
    "#########################################  \n",
    "    "
   ]
  },
  {
   "cell_type": "code",
   "execution_count": null,
   "id": "bb669599",
   "metadata": {},
   "outputs": [],
   "source": []
  },
  {
   "cell_type": "code",
   "execution_count": null,
   "id": "d478f86c",
   "metadata": {},
   "outputs": [],
   "source": []
  }
 ],
 "metadata": {
  "kernelspec": {
   "display_name": "Python 3 (ipykernel)",
   "language": "python",
   "name": "python3"
  },
  "language_info": {
   "codemirror_mode": {
    "name": "ipython",
    "version": 3
   },
   "file_extension": ".py",
   "mimetype": "text/x-python",
   "name": "python",
   "nbconvert_exporter": "python",
   "pygments_lexer": "ipython3",
   "version": "3.10.8"
  }
 },
 "nbformat": 4,
 "nbformat_minor": 5
}
