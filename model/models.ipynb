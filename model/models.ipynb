{
 "cells": [
  {
   "cell_type": "markdown",
   "id": "e245fce4-158d-4af1-974f-612a6d9f412a",
   "metadata": {},
   "source": [
    "# Train Some Example Models"
   ]
  },
  {
   "cell_type": "markdown",
   "id": "ce346822-91eb-4445-bea6-12cf0e7d23d8",
   "metadata": {},
   "source": [
    "## Imports\n"
   ]
  },
  {
   "cell_type": "code",
   "execution_count": 1,
   "id": "3d29667e-24d9-4b38-9838-aafd30f57212",
   "metadata": {},
   "outputs": [],
   "source": [
    "import os\n",
    "import sys\n",
    "os.getcwd()\n",
    "sys.path.append('../preprocess')"
   ]
  },
  {
   "cell_type": "code",
   "execution_count": 2,
   "id": "02b61996-c644-4ecc-af5c-05e45d8a18b2",
   "metadata": {},
   "outputs": [],
   "source": [
    "import torch\n",
    "import torch.nn as nn\n",
    "import torch.nn.functional as F\n",
    "import torchvision\n",
    "import torchvision.transforms as transforms\n",
    "from torch.utils.data import DataLoader\n",
    "from torchvision import models\n",
    "from torchsummary import summary\n",
    "\n",
    "# Dataset\n",
    "# from preprocess.GeoGuessrDataset import GeoGuessrDataset\n",
    "from GeoGuessrDataset import GeoGuessrDataset, ToTensor\n",
    "\n",
    "\n",
    "import numpy as np\n",
    "import matplotlib.pyplot as plt\n",
    "from tqdm.notebook import tnrange\n",
    "\n",
    "%matplotlib inline\n",
    "\n",
    "# Enable autoreloading of imported modules.\n",
    "%load_ext autoreload\n",
    "%autoreload 2"
   ]
  },
  {
   "cell_type": "code",
   "execution_count": 3,
   "id": "6c32ddae-5902-43d5-a859-ed076a6cfbd9",
   "metadata": {},
   "outputs": [
    {
     "name": "stdout",
     "output_type": "stream",
     "text": [
      "cuda:0\n"
     ]
    }
   ],
   "source": [
    "# Check GPU support on your machine.\n",
    "device = torch.device('cuda:0' if torch.cuda.is_available() else 'cpu')\n",
    "\n",
    "print(device)\n",
    "\n",
    "root_dir = r\"C:\\Users\\valdr\\datasets\\geoguessr_dataset\"\n",
    "HEIGHT = 512\n",
    "WIDTH = 2560"
   ]
  },
  {
   "cell_type": "code",
   "execution_count": 4,
   "id": "69b5525b-9190-447e-bf88-0adcf39c4ae6",
   "metadata": {},
   "outputs": [
    {
     "data": {
      "text/plain": [
       "'NVIDIA GeForce RTX 3050 Laptop GPU'"
      ]
     },
     "execution_count": 4,
     "metadata": {},
     "output_type": "execute_result"
    }
   ],
   "source": [
    "torch.cuda.get_device_name(device=None)"
   ]
  },
  {
   "cell_type": "code",
   "execution_count": 5,
   "id": "6895015f-4029-41f5-b652-5981a984281d",
   "metadata": {},
   "outputs": [],
   "source": [
    "import torch\n",
    "import torch.nn as nn\n",
    "\n",
    "class GeoGuessrNet(nn.Module):\n",
    "    def __init__(self):\n",
    "        super(GeoGuessrNet, self).__init__()\n",
    "        \n",
    "        # Define the convolutional layers\n",
    "        self.conv1 = nn.Conv2d(in_channels=3, out_channels=8, kernel_size=16, stride=6, padding=1)\n",
    "        self.conv2 = nn.Conv2d(in_channels=8, out_channels=16, kernel_size=16, stride=6, padding=1)\n",
    "        self.conv3 = nn.Conv2d(in_channels=16, out_channels=32, kernel_size=8, stride=6, padding=1)\n",
    "        \n",
    "        # Define the fully-connected layers\n",
    "        self.fc1 = nn.Linear(704, 200)  # modified to have the correct input size\n",
    "        self.fc2 = nn.Linear(200, 10)\n",
    "        self.fc3 = nn.Linear(10, 32768)\n",
    "        # self.fc2 = nn.Linear(1024, 32768)  # output size is still 32768\n",
    "        \n",
    "    def forward(self, x):\n",
    "        x = F.relu(self.conv1(x))\n",
    "        x = F.relu(self.conv2(x))\n",
    "        x = F.relu(self.conv3(x))\n",
    "        \n",
    "        x = x.view(x.size(0), -1)\n",
    "        \n",
    "        x = self.fc1(x)\n",
    "        x = self.fc2(x) \n",
    "        x = self.fc3(x)\n",
    "        return x\n"
   ]
  },
  {
   "cell_type": "code",
   "execution_count": 6,
   "id": "868831e9-f838-44f6-acb0-09f985b034af",
   "metadata": {},
   "outputs": [],
   "source": [
    "import torch\n",
    "import torch.nn as nn\n",
    "\n",
    "class GeoGuessrNet_2(nn.Module):\n",
    "    def __init__(self):\n",
    "        super(GeoGuessrNet_2, self).__init__()\n",
    "        \n",
    "        # Define the convolutional layers\n",
    "        self.conv1 = nn.Conv2d(in_channels=3, out_channels=32, kernel_size=3, stride=2, padding=1)\n",
    "        self.bn1 = nn.BatchNorm2d(32)\n",
    "        self.conv2 = nn.Conv2d(in_channels=32, out_channels=64, kernel_size=3, stride=2, padding=1)\n",
    "        self.bn2 = nn.BatchNorm2d(64)\n",
    "        self.conv3 = nn.Conv2d(in_channels=64, out_channels=128, kernel_size=3, stride=2, padding=1)\n",
    "        self.bn3 = nn.BatchNorm2d(128)\n",
    "        self.conv4 = nn.Conv2d(in_channels=128, out_channels=256, kernel_size=3, stride=2, padding=1)\n",
    "        self.bn4 = nn.BatchNorm2d(256)\n",
    "        self.conv5 = nn.Conv2d(in_channels=256, out_channels=512, kernel_size=3, stride=2, padding=1)\n",
    "        self.bn5 = nn.BatchNorm2d(512)\n",
    "        \n",
    "        # Define the fully-connected layers\n",
    "        self.fc1 = nn.Linear(512 * 256 * 512, 1024)\n",
    "        self.bn6 = nn.BatchNorm1d(1024)\n",
    "        self.drop1 = nn.Dropout(p=0.5)\n",
    "        self.fc2 = nn.Linear(1024, 512)\n",
    "        self.bn7 = nn.BatchNorm1d(512)\n",
    "        self.drop2 = nn.Dropout(p=0.5)\n",
    "        self.fc3 = nn.Linear(512, 256)\n",
    "        self.bn8 = nn.BatchNorm1d(256)\n",
    "        self.drop3 = nn.Dropout(p=0.5)\n",
    "        self.fc4 = nn.Linear(256, 128)\n",
    "        self.bn9 = nn.BatchNorm1d(128)\n",
    "        self.drop4 = nn.Dropout(p=0.5)\n",
    "        self.fc5 = nn.Linear(128, 64)\n",
    "        self.bn10 = nn.BatchNorm1d(64)\n",
    "        self.drop5 = nn.Dropout(p=0.5)\n",
    "        self.fc6 = nn.Linear(64, 32)\n",
    "        self.bn11 = nn.BatchNorm1d(32)\n",
    "        self.drop6 = nn.Dropout(p=0.5)\n",
    "        self.fc7 = nn.Linear(32, 16)\n",
    "        self.bn12 = nn\n",
    "\n",
    "    "
   ]
  },
  {
   "cell_type": "code",
   "execution_count": 7,
   "id": "0814a8a0-9438-49a5-ac7a-733f4539433c",
   "metadata": {},
   "outputs": [],
   "source": [
    "class GeoGuessrNet_3(nn.Module):\n",
    "    def __init__(self, num_classes):\n",
    "        super(GeoGuessrNet_3, self).__init__()\n",
    "\n",
    "        # Define the convolutional layers\n",
    "        self.conv1 = nn.Conv2d(in_channels=3, out_channels=32, kernel_size=3, padding=1)\n",
    "        self.conv2 = nn.Conv2d(in_channels=32, out_channels=64, kernel_size=3, padding=1)\n",
    "        self.conv3 = nn.Conv2d(in_channels=64, out_channels=128, kernel_size=3, padding=1)\n",
    "\n",
    "        # Define the pooling layers\n",
    "        self.pool = nn.MaxPool2d(kernel_size=2, stride=2)\n",
    "\n",
    "        # Define the batch normalization layers\n",
    "        self.batch_norm1 = nn.BatchNorm2d(num_features=32)\n",
    "        self.batch_norm2 = nn.BatchNorm2d(num_features=64)\n",
    "        self.batch_norm3 = nn.BatchNorm2d(num_features=128)\n",
    "\n",
    "        # Define the fully-connected layers\n",
    "        self.fc1 = nn.Linear(in_features=128 * 16 * 8, out_features=512)\n",
    "        self.fc2 = nn.Linear(in_features=512, out_features=num_classes)\n",
    "\n",
    "    def forward(self, x):\n",
    "        # Apply the convolutional layers and pooling layers\n",
    "        x = self.pool(self.batch_norm1(torch.relu(self.conv1(x))))\n",
    "        x = self.pool(self.batch_norm2(torch.relu(self.conv2(x))))\n",
    "        x = self.pool(self.batch_norm3(torch.relu(self.conv3(x))))\n",
    "\n",
    "        # Flatten the output of the convolutional layers\n",
    "        x = x.view(x.size(0), -1)\n",
    "\n",
    "        # Apply the fully-connected layers\n",
    "        x = torch.relu(self.fc1(x))\n",
    "        x = self.fc2(x)\n",
    "\n",
    "        return x\n",
    "\n"
   ]
  },
  {
   "cell_type": "markdown",
   "id": "f7f11b1f-9dd6-4f86-8f24-2df4d967ecdf",
   "metadata": {},
   "source": [
    "### Define Model and Summary"
   ]
  },
  {
   "cell_type": "code",
   "execution_count": 8,
   "id": "3608cf99-d7f6-4e5d-8839-0796f28ecec8",
   "metadata": {},
   "outputs": [
    {
     "name": "stdout",
     "output_type": "stream",
     "text": [
      "----------------------------------------------------------------\n",
      "        Layer (type)               Output Shape         Param #\n",
      "================================================================\n",
      "            Conv2d-1           [-1, 8, 84, 425]           6,152\n",
      "            Conv2d-2           [-1, 16, 12, 69]          32,784\n",
      "            Conv2d-3            [-1, 32, 2, 11]          32,800\n",
      "            Linear-4                  [-1, 200]         141,000\n",
      "            Linear-5                   [-1, 10]           2,010\n",
      "            Linear-6                [-1, 32768]         360,448\n",
      "================================================================\n",
      "Total params: 575,194\n",
      "Trainable params: 575,194\n",
      "Non-trainable params: 0\n",
      "----------------------------------------------------------------\n",
      "Input size (MB): 15.00\n",
      "Forward/backward pass size (MB): 2.54\n",
      "Params size (MB): 2.19\n",
      "Estimated Total Size (MB): 19.73\n",
      "----------------------------------------------------------------\n"
     ]
    }
   ],
   "source": [
    "\n",
    "model_1 = GeoGuessrNet()\n",
    "# model_2 = GeoGuessrNet()\n",
    "# model_3 = GeoGuessrNet_3()\n",
    "# model_4 = GeoGuessrNet_4()\n",
    "model = model_1.to(device)\n",
    "summary(model, (3,HEIGHT, WIDTH))\n"
   ]
  },
  {
   "cell_type": "code",
   "execution_count": 9,
   "id": "cc6b692b-c526-4ece-bba3-73160034176d",
   "metadata": {},
   "outputs": [
    {
     "data": {
      "text/plain": [
       "68.719476736"
      ]
     },
     "execution_count": 9,
     "metadata": {},
     "output_type": "execute_result"
    }
   ],
   "source": [
    "68719476736 * 1e-9"
   ]
  },
  {
   "cell_type": "markdown",
   "id": "0f103995-6fe0-4ae2-9750-56c9d73aa223",
   "metadata": {},
   "source": [
    "### Define Optimization"
   ]
  },
  {
   "cell_type": "code",
   "execution_count": 26,
   "id": "314633cb-4f2a-4dde-96c7-af233de9b116",
   "metadata": {},
   "outputs": [],
   "source": [
    "# Define a loss function and optimizer\n",
    "criterion = nn.CrossEntropyLoss()\n",
    "optimizer = torch.optim.Adam(model.parameters(), lr=0.001)\n",
    "\n",
    "# Define the data transformation\n",
    "transform = transforms.Compose([\n",
    "    transforms.ToTensor(),  # convert images to tensors\n",
    "    transforms.Normalize(mean=[0.5, 0.5, 0.5], std=[0.5, 0.5, 0.5]),  # normalize images\n",
    "])"
   ]
  },
  {
   "cell_type": "markdown",
   "id": "45fbb524-552f-442e-9be5-7806ff6d5f2d",
   "metadata": {},
   "source": [
    "### Load Dataset"
   ]
  },
  {
   "cell_type": "code",
   "execution_count": 27,
   "id": "582da5fa-586a-4b5b-a7ff-72f74828a1cc",
   "metadata": {},
   "outputs": [],
   "source": [
    "# Load the dataset and split it into training and validation sets\n",
    "# You will need to implement the `GeoLocDataset` class and the `__getitem__` and `__len__` methods\n",
    "\n",
    "dataset = GeoGuessrDataset(csv_file='../preprocess/coordinates_geohash.csv',\n",
    "                                    root_dir=root_dir, transform=transform)\n",
    "train_size = int(0.8 * len(dataset))\n",
    "val_size = len(dataset) - train_size\n",
    "train_dataset, val_dataset = torch.utils.data.random_split(dataset, [train_size, val_size])\n",
    "\n",
    "# Define the dataloaders\n",
    "train_dataloader = DataLoader(train_dataset, batch_size=32, shuffle=True, num_workers=2)\n",
    "val_dataloader = DataLoader(val_dataset, batch_size=32, shuffle=False, num_workers=2)\n"
   ]
  },
  {
   "cell_type": "code",
   "execution_count": 28,
   "id": "01ce3674-f387-4f76-bd46-dd221d8cc7fc",
   "metadata": {},
   "outputs": [
    {
     "name": "stderr",
     "output_type": "stream",
     "text": [
      "Clipping input data to the valid range for imshow with RGB data ([0..1] for floats or [0..255] for integers).\n",
      "Clipping input data to the valid range for imshow with RGB data ([0..1] for floats or [0..255] for integers).\n",
      "Clipping input data to the valid range for imshow with RGB data ([0..1] for floats or [0..255] for integers).\n",
      "Clipping input data to the valid range for imshow with RGB data ([0..1] for floats or [0..255] for integers).\n"
     ]
    },
    {
     "name": "stdout",
     "output_type": "stream",
     "text": [
      "0 torch.Size([3, 512, 2560]) tensor([0, 0, 0,  ..., 0, 0, 0])\n",
      "1 torch.Size([3, 512, 2560]) tensor([0, 0, 0,  ..., 0, 0, 0])\n",
      "2 torch.Size([3, 512, 2560]) tensor([0, 0, 0,  ..., 0, 0, 0])\n",
      "3 torch.Size([3, 512, 2560]) tensor([0, 0, 0,  ..., 0, 0, 0])\n"
     ]
    },
    {
     "name": "stderr",
     "output_type": "stream",
     "text": [
      "Clipping input data to the valid range for imshow with RGB data ([0..1] for floats or [0..255] for integers).\n",
      "Clipping input data to the valid range for imshow with RGB data ([0..1] for floats or [0..255] for integers).\n",
      "Clipping input data to the valid range for imshow with RGB data ([0..1] for floats or [0..255] for integers).\n"
     ]
    },
    {
     "name": "stdout",
     "output_type": "stream",
     "text": [
      "4 torch.Size([3, 512, 2560]) tensor([0, 0, 0,  ..., 0, 0, 0])\n",
      "5 torch.Size([3, 512, 2560]) tensor([0, 0, 0,  ..., 0, 0, 0])\n",
      "6 torch.Size([3, 512, 2560]) tensor([0, 0, 0,  ..., 0, 0, 0])\n"
     ]
    },
    {
     "name": "stderr",
     "output_type": "stream",
     "text": [
      "Clipping input data to the valid range for imshow with RGB data ([0..1] for floats or [0..255] for integers).\n",
      "Clipping input data to the valid range for imshow with RGB data ([0..1] for floats or [0..255] for integers).\n",
      "Clipping input data to the valid range for imshow with RGB data ([0..1] for floats or [0..255] for integers).\n"
     ]
    },
    {
     "name": "stdout",
     "output_type": "stream",
     "text": [
      "7 torch.Size([3, 512, 2560]) tensor([0, 0, 0,  ..., 0, 0, 0])\n",
      "8 torch.Size([3, 512, 2560]) tensor([0, 0, 0,  ..., 0, 0, 0])\n",
      "9 torch.Size([3, 512, 2560]) tensor([0, 0, 0,  ..., 0, 0, 0])\n"
     ]
    },
    {
     "data": {
      "image/png": "[encoded data removed]",
      "text/plain": [
       "<Figure size 640x480 with 1 Axes>"
      ]
     },
     "metadata": {},
     "output_type": "display_data"
    }
   ],
   "source": [
    "\n",
    "for i in range(10):\n",
    "    sample = dataset[i]\n",
    "    plt.imshow(sample[\"image\"].permute(1, 2, 0))\n",
    "    print(i, sample['image'].shape, sample['geohash'])"
   ]
  },
  {
   "cell_type": "code",
   "execution_count": 45,
   "id": "c3539782-ebf4-4d6b-8655-1fd3e76cc227",
   "metadata": {},
   "outputs": [
    {
     "name": "stdout",
     "output_type": "stream",
     "text": [
      "torch.Size([32, 3, 512, 2560]) torch.Size([32, 32768])\n"
     ]
    }
   ],
   "source": [
    "for i, batch in enumerate(train_dataloader):\n",
    "    x, y = batch[\"image\"], batch[\"geohash\"]\n",
    "    print(x.shape, y.shape)\n",
    "    break"
   ]
  },
  {
   "cell_type": "markdown",
   "id": "d01b4ff7-fc22-4b59-9358-f611d914d8f7",
   "metadata": {},
   "source": [
    "### Train Model"
   ]
  },
  {
   "cell_type": "code",
   "execution_count": null,
   "id": "c80cafde-81a4-4e86-81fc-8e7078f7ebd7",
   "metadata": {},
   "outputs": [],
   "source": []
  },
  {
   "cell_type": "code",
   "execution_count": 46,
   "id": "e4c39b57-2075-4562-9bae-767638476d4f",
   "metadata": {},
   "outputs": [
    {
     "data": {
      "application/vnd.jupyter.widget-view+json": {
       "model_id": "f4d48d205a744937a995dbb332340002",
       "version_major": 2,
       "version_minor": 0
      },
      "text/plain": [
       "  0%|          | 0/10 [00:00<?, ?it/s]"
      ]
     },
     "metadata": {},
     "output_type": "display_data"
    },
    {
     "ename": "KeyboardInterrupt",
     "evalue": "",
     "output_type": "error",
     "traceback": [
      "\u001b[1;31m---------------------------------------------------------------------------\u001b[0m",
      "\u001b[1;31mKeyboardInterrupt\u001b[0m                         Traceback (most recent call last)",
      "Cell \u001b[1;32mIn [46], line 9\u001b[0m\n\u001b[0;32m      6\u001b[0m train_loss \u001b[38;5;241m=\u001b[39m \u001b[38;5;241m0.0\u001b[39m\n\u001b[0;32m      7\u001b[0m \u001b[38;5;28;01mfor\u001b[39;00m idx, batch \u001b[38;5;129;01min\u001b[39;00m \u001b[38;5;28menumerate\u001b[39m(train_dataloader):\n\u001b[0;32m      8\u001b[0m     \u001b[38;5;66;03m# Convert images (input) to float because it is a ByteTensor. Why is it a ByteTensor?\u001b[39;00m\n\u001b[1;32m----> 9\u001b[0m     images, labels \u001b[38;5;241m=\u001b[39m \u001b[43mbatch\u001b[49m\u001b[43m[\u001b[49m\u001b[38;5;124;43m\"\u001b[39;49m\u001b[38;5;124;43mimage\u001b[39;49m\u001b[38;5;124;43m\"\u001b[39;49m\u001b[43m]\u001b[49m\u001b[38;5;241;43m.\u001b[39;49m\u001b[43mfloat\u001b[49m\u001b[43m(\u001b[49m\u001b[43m)\u001b[49m, batch[\u001b[38;5;124m\"\u001b[39m\u001b[38;5;124mgeohash\u001b[39m\u001b[38;5;124m\"\u001b[39m]\u001b[38;5;241m.\u001b[39mfloat()\n\u001b[0;32m     11\u001b[0m     \u001b[38;5;66;03m# Move the data to the device\u001b[39;00m\n\u001b[0;32m     12\u001b[0m     images \u001b[38;5;241m=\u001b[39m images\u001b[38;5;241m.\u001b[39mto(device)\n",
      "\u001b[1;31mKeyboardInterrupt\u001b[0m: "
     ]
    }
   ],
   "source": [
    "# Train the model\n",
    "num_epochs = 10\n",
    "for epoch in (pbar := tnrange(num_epochs)):\n",
    "    # Training\n",
    "    model.train()\n",
    "    train_loss = 0.0\n",
    "    for idx, batch in enumerate(train_dataloader):\n",
    "        # Convert images (input) to float because it is a ByteTensor. Why is it a ByteTensor?\n",
    "        images, labels = batch[\"image\"].float(), batch[\"geohash\"].float()\n",
    "        \n",
    "        # Move the data to the device\n",
    "        images = images.to(device)\n",
    "        labels = labels.to(device)\n",
    "        \n",
    "        # Zero the gradients\n",
    "        optimizer.zero_grad()\n",
    "        \n",
    "        # Forward pass\n",
    "        outputs = model(images)\n",
    "        loss = criterion(outputs, labels)\n",
    "        \n",
    "        # Backward pass\n",
    "        loss.backward()\n",
    "        \n",
    "        # Update the weights\n",
    "        optimizer.step()\n",
    "        \n",
    "        # Accumulate the training loss\n",
    "        train_loss += loss.item() * images.size(0)\n",
    "        \n",
    "    pbar.set_description(f'Epoch: {epoch + 1}  Loss: {loss.item():.5f}')    \n",
    "        "
   ]
  },
  {
   "cell_type": "code",
   "execution_count": null,
   "id": "d0872a90-4a8e-4cc8-9e35-7b9643912592",
   "metadata": {},
   "outputs": [],
   "source": []
  },
  {
   "cell_type": "markdown",
   "id": "3a4c0e7f-c668-450e-a4ed-419e84a7d954",
   "metadata": {},
   "source": [
    "### Validation"
   ]
  },
  {
   "cell_type": "code",
   "execution_count": null,
   "id": "180f6280-9f8d-4ff7-94fd-8ef66233a19b",
   "metadata": {},
   "outputs": [],
   "source": [
    "# Validation\n",
    "model.eval()\n",
    "val_loss = 0.0\n",
    "with torch.no_grad():\n",
    "    for images, labels in val_dataloader:\n",
    "        # Move the data to the device\n",
    "        images = images.to(device)\n",
    "        labels = labels.to(device)\n",
    "\n",
    "        # Forward pass\n",
    "        outputs = model(images)\n",
    "        loss = criterion(outputs, labels)\n",
    "\n",
    "        prediction = torch.argmax(outputs.data, 1)\n",
    "\n",
    "        # Accumulate the validation loss                                \n",
    "        val_loss += loss.item() * images.size(0)                        \n",
    "\n",
    "\n",
    "# Print the epoch loss                                                  \n",
    "train_loss = train_loss / len(train_dataloader.dataset)                 \n",
    "val_loss = val_loss / len(val_dataloader.dataset)"
   ]
  },
  {
   "cell_type": "code",
   "execution_count": null,
   "id": "436687ba-3e08-4793-91f4-b872bb484cb4",
   "metadata": {},
   "outputs": [],
   "source": []
  },
  {
   "cell_type": "code",
   "execution_count": null,
   "id": "060011bb-bf64-4f29-a427-a0f79e049c2a",
   "metadata": {},
   "outputs": [],
   "source": []
  },
  {
   "cell_type": "code",
   "execution_count": null,
   "id": "8f9216d7-e663-4ff4-ae65-d45a67489ea6",
   "metadata": {},
   "outputs": [],
   "source": []
  },
  {
   "cell_type": "code",
   "execution_count": null,
   "id": "b282a8cb-2ed2-43f0-89db-0ef27af5968d",
   "metadata": {},
   "outputs": [],
   "source": []
  },
  {
   "cell_type": "code",
   "execution_count": null,
   "id": "09843b78-56bb-4f0a-a925-22bb4f5d69a5",
   "metadata": {},
   "outputs": [],
   "source": []
  },
  {
   "cell_type": "code",
   "execution_count": null,
   "id": "b6f183a8-2c0b-4baf-8ae5-40acbcec10ea",
   "metadata": {},
   "outputs": [],
   "source": []
  },
  {
   "cell_type": "code",
   "execution_count": null,
   "id": "d05c6d33-12fb-430c-b851-18ce5c4d0256",
   "metadata": {},
   "outputs": [],
   "source": []
  },
  {
   "cell_type": "code",
   "execution_count": null,
   "id": "e32c2acd-02b7-40d8-890a-0d9e836a1cd4",
   "metadata": {},
   "outputs": [],
   "source": []
  }
 ],
 "metadata": {
  "kernelspec": {
   "display_name": "Python 3 (ipykernel)",
   "language": "python",
   "name": "python3"
  },
  "language_info": {
   "codemirror_mode": {
    "name": "ipython",
    "version": 3
   },
   "file_extension": ".py",
   "mimetype": "text/x-python",
   "name": "python",
   "nbconvert_exporter": "python",
   "pygments_lexer": "ipython3",
   "version": "3.9.0"
  }
 },
 "nbformat": 4,
 "nbformat_minor": 5
}
